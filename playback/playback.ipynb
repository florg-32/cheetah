{
 "cells": [
  {
   "cell_type": "code",
   "execution_count": null,
   "id": "381f0a3c",
   "metadata": {},
   "outputs": [],
   "source": [
    "import pandas as pd\n",
    "import os"
   ]
  },
  {
   "cell_type": "markdown",
   "id": "91fd3bef",
   "metadata": {},
   "source": [
    "Timebudgets are exported as indidivual files per observation id. Merge them all into one and add an ID keeping the origin.\n",
    "\n",
    "These contain all behaviors for all subjects, even if the subject didn't exist in the specific observation or it didn't show the behavior. So we remove all entries where the \"Total number of occurences\" is 0.\n",
    "\n",
    "There are some observations where two cameras where used, they have _a and _b suffixes that should be removed from the ID."
   ]
  },
  {
   "cell_type": "code",
   "execution_count": null,
   "id": "3cdf3521",
   "metadata": {},
   "outputs": [],
   "source": [
    "TIME_BUDGET_FOLDER = \"data export/data_export_30_sec_cut_off/time budget/single xlsx\"\n",
    "\n",
    "def create_unique_id(df: pd.DataFrame):\n",
    "    df[\"uid\"] = df[\"Observation id\"].str.rstrip(\"_ab\").str.cat(df[\"Subject\"], sep=\"_\")\n",
    "    return df\n",
    "\n",
    "def remove_nonexistant(df: pd.DataFrame):\n",
    "    return df[df[\"Total number of occurences\"] > 0]\n",
    "\n",
    "files = map(lambda x: os.path.join(TIME_BUDGET_FOLDER, x), os.listdir(TIME_BUDGET_FOLDER))\n",
    "excels = map(pd.read_excel, files)\n",
    "filtered = map(remove_nonexistant, excels)\n",
    "with_id = map(create_unique_id, filtered)\n",
    "\n",
    "merged_timebudget = pd.concat(with_id)\n",
    "merged_timebudget"
   ]
  },
  {
   "cell_type": "markdown",
   "id": "4f3d072d",
   "metadata": {},
   "source": []
  },
  {
   "cell_type": "code",
   "execution_count": null,
   "id": "3858b570",
   "metadata": {},
   "outputs": [],
   "source": [
    "aggregated_events = pd.read_excel(\n",
    "    \"data export/data_export_30_sec_cut_off/aggregated events/aggregated_events_27.08.25.xlsx\"\n",
    ")\n",
    "agg = create_unique_id(aggregated_events)\n",
    "\n",
    "counted = agg.pivot_table(index=[\"uid\", \"Observation id\"], columns=\"Behavior\", aggfunc=\"size\", fill_value=0)\n",
    "counted"
   ]
  },
  {
   "cell_type": "code",
   "execution_count": null,
   "id": "708e2782",
   "metadata": {},
   "outputs": [],
   "source": [
    "plan = pd.read_excel(\"data export/playback_plan_filled_out.xlsx\")\n",
    "plan[\"Observation id\"] = plan[\"experiment number\"].astype(str).str.zfill(2).str.cat(plan[\"date\"].dt.strftime(\"%d.%m.%Y\"), sep=\"_\")\n",
    "plan = plan.set_index(\"Observation id\")\n",
    "plan = plan[[\"stim. cat.\", \"stimulus\"]]\n",
    "plan"
   ]
  },
  {
   "cell_type": "code",
   "execution_count": null,
   "id": "6d856fb4",
   "metadata": {},
   "outputs": [],
   "source": [
    "counted.join(plan, \"Observation id\", \"left\")"
   ]
  },
  {
   "cell_type": "code",
   "execution_count": null,
   "id": "e95aff33",
   "metadata": {},
   "outputs": [],
   "source": []
  }
 ],
 "metadata": {
  "kernelspec": {
   "display_name": "cheetah",
   "language": "python",
   "name": "python3"
  },
  "language_info": {
   "codemirror_mode": {
    "name": "ipython",
    "version": 3
   },
   "file_extension": ".py",
   "mimetype": "text/x-python",
   "name": "python",
   "nbconvert_exporter": "python",
   "pygments_lexer": "ipython3",
   "version": "3.12.11"
  }
 },
 "nbformat": 4,
 "nbformat_minor": 5
}
