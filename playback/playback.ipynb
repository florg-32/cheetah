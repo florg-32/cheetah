{
 "cells": [
  {
   "cell_type": "markdown",
   "id": "d248e4ce",
   "metadata": {},
   "source": [
    "Our endgoal is to both merge the timebudget exports and the aggregated events with both the playback plan and the manually collected metadata.\n",
    "\n",
    "For that we need the path to these files. You can set them to paths as shown at the top of Windows explorer."
   ]
  },
  {
   "cell_type": "code",
   "execution_count": null,
   "id": "381f0a3c",
   "metadata": {},
   "outputs": [],
   "source": [
    "import pandas as pd\n",
    "import os\n",
    "\n",
    "TIME_BUDGET_FOLDER = \"data export/data_export_30_sec_cut_off/time budget/single xlsx\"\n",
    "AGGREGATED_EVENTS_FILE = \"data export/data_export_30_sec_cut_off/aggregated events/aggregated_events_01.09.25.xlsx\"\n",
    "PLAYBACK_PLAN_FILE = \"data export/playback_plan_filled_out.xlsx\"\n",
    "MANUAL_METADATA_FILE = \"data export/playback_plan_BORIS_blind_coding_for analysis.xlsx\"\n",
    "\n",
    "OUTPUT_TIMEBUDGET = \"output_timebudget.xlsx\"\n",
    "OUTPUT_AGGREGATED_EVENTS = \"output_aggregated_events.xlsx\""
   ]
  },
  {
   "cell_type": "markdown",
   "id": "91fd3bef",
   "metadata": {},
   "source": [
    "Timebudgets are exported as indidivual files per observation id. Merge them all into one and add an ID keeping the origin.\n",
    "\n",
    "These contain all behaviors for all subjects, even if the subject didn't exist in the specific observation or it didn't show the behavior. So we remove all entries where the \"Total number of occurences\" is 0.\n",
    "\n",
    "There are some observations where two cameras where used, they have _a and _b suffixes that should be removed from the ID."
   ]
  },
  {
   "cell_type": "code",
   "execution_count": null,
   "id": "3cdf3521",
   "metadata": {},
   "outputs": [],
   "source": [
    "# This is a function we can reuse later to do the same thing for the events\n",
    "def strip_ab_and_create_unique_id(df: pd.DataFrame):\n",
    "    df[\"Observation id\"] = df[\"Observation id\"].str.rstrip(\"_ab\")\n",
    "    df[\"uid\"] = df[\"Observation id\"].str.cat(df[\"Subject\"], sep=\"_\")\n",
    "    return df\n",
    "\n",
    "def remove_nonexistant(df: pd.DataFrame):\n",
    "    return df[df[\"Total number of occurences\"] > 0]\n",
    "\n",
    "# Create an iterator over all files in the timebudget folder\n",
    "files = map(lambda x: os.path.join(TIME_BUDGET_FOLDER, x), os.listdir(TIME_BUDGET_FOLDER))\n",
    "# Open them as excel files\n",
    "excels = map(pd.read_excel, files)\n",
    "# Apply the function to all\n",
    "without_nonexistant = map(remove_nonexistant, excels)\n",
    "# Again apply the function to all\n",
    "with_ids = map(strip_ab_and_create_unique_id, without_nonexistant)\n",
    "\n",
    "# Concatenate all individual files\n",
    "merged_timebudget = pd.concat(with_ids)\n",
    "merged_timebudget.set_index(\"Observation id\")\n",
    "merged_timebudget"
   ]
  },
  {
   "cell_type": "markdown",
   "id": "4f3d072d",
   "metadata": {},
   "source": [
    "From the aggregated events export we need to remove any rows where there is no subject, then pivot the table on the Behavior columns, counting the occurences."
   ]
  },
  {
   "cell_type": "code",
   "execution_count": null,
   "id": "3858b570",
   "metadata": {},
   "outputs": [],
   "source": [
    "aggregated_events = pd.read_excel(AGGREGATED_EVENTS_FILE)\n",
    "agg = strip_ab_and_create_unique_id(aggregated_events)\n",
    "agg = agg[agg[\"Subject\"] != \"No focal subject\"]\n",
    "\n",
    "# This shows the table before pivoting, if you remove the #\n",
    "# display(agg)\n",
    "\n",
    "counted_events = agg.pivot_table(index=[\"uid\", \"Observation id\", \"Subject\"], columns=\"Behavior\", aggfunc=\"size\", fill_value=0)\n",
    "counted_events"
   ]
  },
  {
   "cell_type": "markdown",
   "id": "203191fc",
   "metadata": {},
   "source": [
    "The playback plan contains lots of data, but we are currently only interested in the stimulus category and stimulus. These we need to match on the Observation id, so we also create one here."
   ]
  },
  {
   "cell_type": "code",
   "execution_count": null,
   "id": "708e2782",
   "metadata": {},
   "outputs": [],
   "source": [
    "playback_plan = pd.read_excel(PLAYBACK_PLAN_FILE)\n",
    "\n",
    "padded_experiment_number = playback_plan[\"experiment number\"].astype(str).str.zfill(2)\n",
    "\n",
    "playback_plan[\"Observation id\"] = padded_experiment_number.str.cat(playback_plan[\"date\"].dt.strftime(\"%d.%m.%Y\"), sep=\"_\")\n",
    "playback_plan = playback_plan.set_index(\"Observation id\")\n",
    "playback_plan = playback_plan[[\"stim. cat.\", \"stimulus\"]]\n",
    "playback_plan"
   ]
  },
  {
   "cell_type": "markdown",
   "id": "aee8ef28",
   "metadata": {},
   "source": [
    "\n",
    "Handwritten metadata has one row per observation. So it contains data belonging to the observation itself and the individual focals. The tricky part is the way that this is organized, as we have columns name \"focal 1\" through \"focal 5\", which contain the values for said subjects."
   ]
  },
  {
   "cell_type": "code",
   "execution_count": null,
   "id": "e95aff33",
   "metadata": {},
   "outputs": [],
   "source": [
    "# These need to be merged onto all obervations\n",
    "unspecific_columns = [\n",
    "    \"experiment number\",\n",
    "    \"date\",\n",
    "    \"time\",\n",
    "    \"location (latitude)\",\n",
    "    \"location (longitude)\",\n",
    "    \"species\",\n",
    "    \"groupsize category\",\n",
    "    \"other species present\",\n",
    "    \"group comp.\",\n",
    "    \"habitat\",\n",
    "    \"group 30sec-looking\",\n",
    "    \"group 30sec-moving\",\n",
    "    \"temp\",\n",
    "    \"wind\",\n",
    "    \"dist. to speaker\",\n",
    "    \"car side\"\n",
    "]\n",
    "\n",
    "manual_metadata = pd.read_excel(MANUAL_METADATA_FILE)\n",
    "\n",
    "# Also strip _ab here\n",
    "manual_metadata[\"Observation id\"] = manual_metadata[\"Observation id\"].str.rstrip(\"_ab\")\n",
    "manual_metadata = manual_metadata.set_index(\"Observation id\")\n",
    "\n",
    "# This function will extract the relevant columns for subject n\n",
    "def focal_specific(n):\n",
    "    df = manual_metadata[[f\"focal {n}\", f\"f{n} move of\"]]\n",
    "    df = df.rename(columns={f\"focal {n}\": \"sex\", f\"f{n} move of\": \"move of distance\"})\n",
    "    df = df[df[\"sex\"] != \"/\"]\n",
    "    df = df.dropna()\n",
    "    df[\"Subject\"] = f\"Focal {n}\"\n",
    "    return df\n",
    "\n",
    "# Create a single table with the extracted specifics for focals 1 to 5 (the end of range is exclusive)\n",
    "focal_metadata = pd.concat([focal_specific(n) for n in range(1, 6)]).reset_index()\n",
    "display(focal_metadata)\n",
    "\n",
    "unspecific_metadata = manual_metadata[unspecific_columns]\n",
    "unspecific_metadata"
   ]
  },
  {
   "cell_type": "markdown",
   "id": "029a5415",
   "metadata": {},
   "source": [
    "Now we put everything together"
   ]
  },
  {
   "cell_type": "code",
   "execution_count": null,
   "id": "6d856fb4",
   "metadata": {},
   "outputs": [],
   "source": [
    "def merge_with_data(df: pd.DataFrame):\n",
    "    with_plan = df.join(other=playback_plan)\n",
    "    with_meta = with_plan.join(other=unspecific_metadata)\n",
    "    return pd.merge(left=with_meta, right=focal_metadata, on=[\"Observation id\", \"Subject\"], how=\"left\")\n",
    "\n",
    "full_timebudget = merge_with_data(merged_timebudget)\n",
    "display(full_timebudget)\n",
    "\n",
    "full_counted_events = merge_with_data(counted_events)\n",
    "full_counted_events\n"
   ]
  },
  {
   "cell_type": "code",
   "execution_count": null,
   "id": "1576d88e",
   "metadata": {},
   "outputs": [],
   "source": [
    "full_timebudget.to_excel(OUTPUT_TIMEBUDGET)\n",
    "full_counted_events.to_excel(OUTPUT_AGGREGATED_EVENTS)"
   ]
  }
 ],
 "metadata": {
  "kernelspec": {
   "display_name": "cheetah",
   "language": "python",
   "name": "python3"
  },
  "language_info": {
   "codemirror_mode": {
    "name": "ipython",
    "version": 3
   },
   "file_extension": ".py",
   "mimetype": "text/x-python",
   "name": "python",
   "nbconvert_exporter": "python",
   "pygments_lexer": "ipython3",
   "version": "3.12.11"
  }
 },
 "nbformat": 4,
 "nbformat_minor": 5
}
