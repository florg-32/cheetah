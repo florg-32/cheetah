{
 "cells": [
  {
   "cell_type": "code",
   "execution_count": 2,
   "metadata": {},
   "outputs": [],
   "source": [
    "import polars as pl"
   ]
  },
  {
   "cell_type": "code",
   "execution_count": 3,
   "metadata": {},
   "outputs": [
    {
     "name": "stderr",
     "output_type": "stream",
     "text": [
      "Could not determine dtype for column 4, falling back to string\n",
      "Could not determine dtype for column 8, falling back to string\n",
      "Could not determine dtype for column 10, falling back to string\n",
      "Could not determine dtype for column 12, falling back to string\n",
      "Could not determine dtype for column 13, falling back to string\n",
      "Could not determine dtype for column 14, falling back to string\n",
      "Could not determine dtype for column 18, falling back to string\n",
      "Could not determine dtype for column 20, falling back to string\n",
      "Could not determine dtype for column 22, falling back to string\n",
      "Could not determine dtype for column 26, falling back to string\n",
      "Could not determine dtype for column 31, falling back to string\n",
      "Could not determine dtype for column 34, falling back to string\n",
      "Could not determine dtype for column 35, falling back to string\n",
      "Could not determine dtype for column 36, falling back to string\n",
      "Could not determine dtype for column 42, falling back to string\n",
      "Could not determine dtype for column 43, falling back to string\n",
      "Could not determine dtype for column 44, falling back to string\n",
      "Could not determine dtype for column 45, falling back to string\n",
      "Could not determine dtype for column 46, falling back to string\n",
      "Could not determine dtype for column 58, falling back to string\n",
      "Could not determine dtype for column 59, falling back to string\n",
      "Could not determine dtype for column 64, falling back to string\n",
      "Could not determine dtype for column 65, falling back to string\n",
      "Could not determine dtype for column 66, falling back to string\n",
      "Could not determine dtype for column 67, falling back to string\n",
      "Could not determine dtype for column 68, falling back to string\n",
      "Could not determine dtype for column 69, falling back to string\n",
      "Could not determine dtype for column 70, falling back to string\n",
      "Could not determine dtype for column 71, falling back to string\n",
      "Could not determine dtype for column 72, falling back to string\n",
      "Could not determine dtype for column 73, falling back to string\n",
      "Could not determine dtype for column 74, falling back to string\n"
     ]
    }
   ],
   "source": [
    "wos = pl.read_excel(\"samples/tiger_WoS_28.01.25_kathi.xls\")\n",
    "scopus = pl.read_csv(\"samples/Tiger_scopus_Kathi_13.1.25.csv\")"
   ]
  },
  {
   "cell_type": "code",
   "execution_count": 25,
   "metadata": {},
   "outputs": [],
   "source": [
    "def join_reduce(files) -> pl.DataFrame:\n",
    "    first = load_search(files[0])\n",
    "    for f in map(load_search, files[1:]):\n",
    "        first = join(first, f)\n",
    "    return first\n",
    "\n",
    "\n",
    "def join(left: pl.DataFrame, right=None) -> pl.DataFrame:\n",
    "    if right is None:\n",
    "        return left\n",
    "\n",
    "    joined = left.join(right, on=pl.col(\"Title\").str.to_lowercase().str.strip_chars('\"'), how=\"full\")\n",
    "    return joined.select(\n",
    "        [\n",
    "            pl.coalesce([\"Authors\", \"Authors_right\"]),\n",
    "            pl.coalesce([\"Title\", \"Title_right\"]),\n",
    "            pl.coalesce([\"DOI\", \"DOI_right\"]),\n",
    "            pl.coalesce([\"Year\", \"Year_right\"]),\n",
    "            pl.concat_str(\n",
    "                [\"File\", \"File_right\"],\n",
    "                ignore_nulls=True,\n",
    "                separator=\",\",\n",
    "            ),\n",
    "        ]\n",
    "    )\n",
    "\n",
    "\n",
    "def load_search(filename: str) -> pl.DataFrame:\n",
    "    if filename.endswith(\".csv\"):\n",
    "        return load_scopus(filename)\n",
    "    else:\n",
    "        return load_wos(filename)\n",
    "\n",
    "\n",
    "def load_scopus(filename: str) -> pl.DataFrame:\n",
    "    df = pl.read_csv(filename)\n",
    "    return df.select([\"Authors\", \"Title\", \"DOI\", \"Year\"]).with_columns(\n",
    "        pl.lit(\"scopus\").alias(\"Search Engine\"), pl.lit(filename).alias(\"File\")\n",
    "    )\n",
    "\n",
    "\n",
    "def load_wos(filename: str) -> pl.DataFrame:\n",
    "    df = pl.read_excel(filename, columns=[\"Authors\", \"Article Title\", \"DOI\", \"Publication Year\"])\n",
    "    df = df.select(\n",
    "        [\n",
    "            \"Authors\",\n",
    "            pl.col(\"Article Title\").alias(\"Title\"),\n",
    "            \"DOI\",\n",
    "            pl.col(\"Publication Year\").alias(\"Year\"),\n",
    "        ]\n",
    "    )\n",
    "    df = df.with_columns(lowered=pl.col(\"Title\").str.to_lowercase()).unique(\"lowered\").drop(\"lowered\")\n",
    "    return df.with_columns(pl.lit(\"wos\").alias(\"Search Engine\"), pl.lit(filename).alias(\"File\"))\n"
   ]
  },
  {
   "cell_type": "code",
   "execution_count": 26,
   "metadata": {},
   "outputs": [],
   "source": [
    "a = load_search(\"samples/wos_1.xls\")\n",
    "b = load_search(\"samples/wos_1.xls\")\n",
    "\n",
    "j = join(a, b)"
   ]
  },
  {
   "cell_type": "code",
   "execution_count": 27,
   "metadata": {},
   "outputs": [],
   "source": [
    "dups = j.filter(j.is_duplicated())"
   ]
  }
 ],
 "metadata": {
  "kernelspec": {
   "display_name": ".venv",
   "language": "python",
   "name": "python3"
  },
  "language_info": {
   "codemirror_mode": {
    "name": "ipython",
    "version": 3
   },
   "file_extension": ".py",
   "mimetype": "text/x-python",
   "name": "python",
   "nbconvert_exporter": "python",
   "pygments_lexer": "ipython3",
   "version": "3.12.8"
  }
 },
 "nbformat": 4,
 "nbformat_minor": 2
}
